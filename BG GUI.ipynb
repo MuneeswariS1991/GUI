{
 "cells": [
  {
   "cell_type": "code",
   "execution_count": null,
   "metadata": {},
   "outputs": [],
   "source": [
    "from tkinter import *\n",
    "from tkinter import filedialog \n",
    "import sys\n",
    "import os\n",
    "\n",
    "\n",
    "\n",
    "global expression\n",
    "expression = \"\" \n",
    "\n",
    "def browseFiles(): \n",
    "\tfilename = filedialog.askopenfilename(initialdir = \"/\", \n",
    "\t\t\t\t\t\t\t\t\t\ttitle = \"Select a File\", \n",
    "\t\t\t\t\t\t\t\t\t\tfiletypes =[('All Files', '.')]) \n",
    "\texpression = filename \n",
    "\tequation.set(expression)\n",
    "\tlabel_file_explorer.configure(text=\"File Opened: \"+filename) \n",
    "     \n",
    "\t\n",
    "\n",
    "window = Tk() \n",
    "\n",
    "window.title('File Explorer') \n",
    "window.geometry(\"500x500\")  \n",
    "window.config(background = \"white\")  \n",
    "label_file_explorer = Label(window, \n",
    "\t\t\t\t\t\t\ttext = \"File path: \", \n",
    "\n",
    "\t\t\t\t\t\t\tfg = \"black\") \n",
    "\n",
    "\t\n",
    "button_explore = Button(window, \n",
    "\t\t\t\t\t\ttext = \"Browse\", \n",
    "\t\t\t\t\t\tcommand = browseFiles) \n",
    "\n",
    "button_exit = Button(window, \n",
    "\t\t\t\t\ttext = \"Execute\", \n",
    "\t\t\t\t\tcommand = exit) \n",
    "\n",
    "label_file_explorer.grid(column = 1, row = 1) \n",
    "\n",
    "button_explore.grid(column = 1, row = 2) \n",
    "\n",
    "button_exit.grid(column = 1,row = 3) \n",
    "equation = StringVar()  \n",
    "expression_field = Entry(window, textvariable=equation) \n",
    "\n",
    "\n",
    "def backgroudsubtraction():\n",
    "    os.system('python bgsub.py')\n",
    "    \n",
    "B=Button(window,text=\"Background Subtraction\",command= backgroudsubtraction)\n",
    "B.grid(column=1,row=4)\n",
    "\n",
    "window.mainloop()"
   ]
  },
  {
   "cell_type": "code",
   "execution_count": null,
   "metadata": {},
   "outputs": [],
   "source": []
  },
  {
   "cell_type": "code",
   "execution_count": null,
   "metadata": {},
   "outputs": [],
   "source": []
  }
 ],
 "metadata": {
  "kernelspec": {
   "display_name": "Python 3",
   "language": "python",
   "name": "python3"
  },
  "language_info": {
   "codemirror_mode": {
    "name": "ipython",
    "version": 3
   },
   "file_extension": ".py",
   "mimetype": "text/x-python",
   "name": "python",
   "nbconvert_exporter": "python",
   "pygments_lexer": "ipython3",
   "version": "3.7.6"
  }
 },
 "nbformat": 4,
 "nbformat_minor": 4
}
